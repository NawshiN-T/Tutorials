{
 "cells": [
  {
   "cell_type": "code",
   "execution_count": null,
   "id": "fe7efd6a-fc21-4b6d-88f2-10ce3ed6c48b",
   "metadata": {},
   "outputs": [],
   "source": [
    "# Author of this notebook: Sarzil Hossain\n",
    "# This is \"Part 1\" of a series of tutorial notebooks"
   ]
  },
  {
   "cell_type": "markdown",
   "id": "86d11e11-6e24-4eb9-ad29-053e0b293588",
   "metadata": {},
   "source": [
    "# Intial Step 1: Importing Necessary Libraries"
   ]
  },
  {
   "cell_type": "code",
   "execution_count": null,
   "id": "148fef55-2624-4291-b098-bf0fc78fe217",
   "metadata": {},
   "outputs": [],
   "source": [
    "import pandas as pd\n",
    "\n",
    "# This will import the Pandas library.\n",
    "# Since \"pandas\" is a big word, we will use the acronym pd\n",
    "\n",
    "\n",
    "from urllib.request import urlretrieve\n",
    "\n",
    "# urllib is the name of a library\n",
    "# request is the name of a class inside that library\n",
    "# urlretrieve is the name of a function inside that class\n",
    "\n",
    "# from urllib.request import urlretrieve means, from the request class inside the urllib module,\n",
    "#     get me the urlretrieve function\n",
    "    \n",
    "# With the urlretrieve function, we will download the dataset"
   ]
  },
  {
   "cell_type": "code",
   "execution_count": null,
   "id": "023497e0-58b2-4fa6-8a43-2f583a81f9b9",
   "metadata": {},
   "outputs": [],
   "source": [
    "\"\"\"\n",
    "ONLY IF any error occurs, on the previos line, run this cell.\n",
    "If pandas is not installed, you need to install it.\n",
    "urllib should be installed by default\n",
    "\"\"\"\n",
    "\n",
    "!pip install pandas"
   ]
  },
  {
   "cell_type": "markdown",
   "id": "18b1555d-967c-42e6-88d2-878a2d9a8c5a",
   "metadata": {},
   "source": [
    "# Initial Step 2: Downloading the Dataset"
   ]
  },
  {
   "cell_type": "code",
   "execution_count": null,
   "id": "aa784ac6-231c-43e0-95f9-565e949d62d6",
   "metadata": {},
   "outputs": [],
   "source": [
    "# Let's download the file first.\n",
    "\n",
    "dataset_url = \"https://raw.githubusercontent.com/prmethus/IBM-FuelConsumption_Pipeline_FastAPI/main/Data/FuelConsumption.csv\"\n",
    "save_as = \"FuelConsumption.csv\"\n",
    "\n",
    "# urlretrieve(url, save_to) is a function you can use to download files\n",
    "urlretrieve(dataset_url, save_as)"
   ]
  },
  {
   "cell_type": "code",
   "execution_count": null,
   "id": "f426b6b9-2c75-4870-9b2c-23bd3892b260",
   "metadata": {},
   "outputs": [],
   "source": [
    "# Boom, Download complete! Python is magic."
   ]
  },
  {
   "cell_type": "markdown",
   "id": "6e6f993a-0ede-4a3c-ba41-dd8912e24540",
   "metadata": {},
   "source": [
    "# Initial Step 3: Getting the Data"
   ]
  },
  {
   "cell_type": "code",
   "execution_count": null,
   "id": "db7ced2d-df40-4031-831a-0daee9dc9e3c",
   "metadata": {},
   "outputs": [],
   "source": [
    "# Let's create a Pandas Dataframe from the CSV dataset\n",
    "# or in simple words, \"Let's take the CSV file and use it\"\n",
    "\n",
    "df = pd.read_csv(\"FuelConsumption.csv\")\n",
    "\n",
    "# The dataframe is saved as 'df', short for \"dataframe\""
   ]
  },
  {
   "cell_type": "markdown",
   "id": "3cb19afe-a899-40e1-8ceb-bdb8f839b392",
   "metadata": {},
   "source": [
    "# Q: What does the data look like?"
   ]
  },
  {
   "cell_type": "code",
   "execution_count": null,
   "id": "1854d781-4eb8-4f57-a9b7-be6e2e21b08e",
   "metadata": {},
   "outputs": [],
   "source": [
    "# Let's PRINT THE WHOLE DATAFRAME!!!\n",
    "\n",
    "df"
   ]
  },
  {
   "cell_type": "markdown",
   "id": "e7a3e8b3-c49f-4298-86a5-cc06ef8ec4e6",
   "metadata": {},
   "source": [
    "**Uh, oh, that's a lot of data. And I don't understand anything :/**\n",
    "\n",
    "Let's make things a bit more *clear* by just looking at the first 6 rows"
   ]
  },
  {
   "cell_type": "code",
   "execution_count": null,
   "id": "adf34ce6-4954-4a40-8d1c-572f9ca99cd0",
   "metadata": {},
   "outputs": [],
   "source": [
    "# Let's see the first 6 rows\n",
    "\n",
    "df.head(6)\n",
    "\n",
    "# 'head' is a dataframe method that shows the first 6 rows."
   ]
  },
  {
   "cell_type": "code",
   "execution_count": null,
   "id": "b6a76e14-c7ac-4d45-9525-084345bebb07",
   "metadata": {},
   "outputs": [],
   "source": [
    "# Now let's see the last 6 rows\n",
    "\n",
    "df.tail(6)\n",
    "\n",
    "# 'tail' is a dataframe method that shows the last 6 rows"
   ]
  },
  {
   "cell_type": "markdown",
   "id": "adfa13f4-1624-481d-8dcd-de9c7ba384db",
   "metadata": {},
   "source": [
    "WAIT A MINUTE. DATAFRAMES GOT HEADS AND TAILS?  \n",
    "That's an intuitive naming convention that is easy to remember."
   ]
  },
  {
   "cell_type": "markdown",
   "id": "14ff00f7-9007-48a4-908d-161f6c0205b7",
   "metadata": {},
   "source": [
    "Let's randomly pick 6 values and see them\n",
    "\n",
    "With the 'sample' method  \n",
    "\n",
    "Why 6? Well not 6, just put how many 'data points' you want to be printed. It can be 5, 6, 10, 20, whatever"
   ]
  },
  {
   "cell_type": "code",
   "execution_count": null,
   "id": "f389bb8c-2069-4561-85e2-42e3aac42dc0",
   "metadata": {},
   "outputs": [],
   "source": [
    "df.sample(6)"
   ]
  },
  {
   "cell_type": "markdown",
   "id": "9eef0bb7-6452-4c46-b0b8-dbf7f1a82a55",
   "metadata": {},
   "source": [
    "## Q: How many rows and columns does it have?"
   ]
  },
  {
   "cell_type": "code",
   "execution_count": null,
   "id": "c8776653-233a-4e93-b4dc-316382950188",
   "metadata": {},
   "outputs": [],
   "source": [
    "df.shape # :/ yeah, thats all"
   ]
  },
  {
   "cell_type": "markdown",
   "id": "a8d46a0f-5f38-4c8e-b2a7-14c6e3813f27",
   "metadata": {},
   "source": [
    "So,\n",
    "1067 rows and 13 columns"
   ]
  },
  {
   "cell_type": "markdown",
   "id": "96d6e3cd-8101-45eb-b7b8-940283ef1438",
   "metadata": {},
   "source": [
    "## Q: What are the columns?"
   ]
  },
  {
   "cell_type": "code",
   "execution_count": null,
   "id": "2e81dac3-f865-4c91-9c56-e8611b281774",
   "metadata": {},
   "outputs": [],
   "source": [
    "df.columns"
   ]
  },
  {
   "cell_type": "markdown",
   "id": "be0f4c8e-4026-4f2a-8519-9207413a5c64",
   "metadata": {},
   "source": [
    "So the columns are:\n",
    "    1. MODELYEAR - The Year the car was manufactured  \n",
    "    2. MAKE - The Manufacturer  \n",
    "    3. MODEL - The Car's Model  \n",
    "    4. VEHICLECLASS - If the car is SUV, Coupe, Sedan, etc.  \n",
    "    5. ENGINESIZE - The Size of the Engine in CC  \n",
    "    6. CYLINDERS - Number of Cylinders  \n",
    "    7. TRANSMISSION - 'A' means auto, 'M' means Manual. The last digit refers to the number of gears  \n",
    "    8. FUELTYPE - What type of fuel does the car use  \n",
    "    9. FUELCONSUMPTION_CITY, \n",
    "       FUELCONSUMPTION_HWY, \n",
    "       FUELCONSUMPTION_COMB, \n",
    "       FUELCONSUMPTION_COMB_MPG, \n",
    "       - How many gallons of fuel is used by the car per month  \n",
    "    10. CO2EMISSIONS - Carbon Dioxide Emission every month in Kilograms"
   ]
  },
  {
   "cell_type": "markdown",
   "id": "af27169f-5c4c-40da-9973-709f35855830",
   "metadata": {},
   "source": [
    "## Q: What are the data types of the columns? (Numerical / Categorical)\n",
    "int64 - 64 bit integer (can be 8, 16 or 32 bit as well)  \n",
    "float64 - 64 bit floating point number (can be 8, 16 or 32 bit as well)  \n",
    "object - most commonly, strings"
   ]
  },
  {
   "cell_type": "code",
   "execution_count": null,
   "id": "0346305c-c717-4bb2-a6d1-ce7b20061312",
   "metadata": {},
   "outputs": [],
   "source": [
    "df.dtypes"
   ]
  },
  {
   "cell_type": "markdown",
   "id": "d05d9cbf-290a-449c-87dc-35c9570340ed",
   "metadata": {},
   "source": [
    "# Basic Statistics - Summarizing\n",
    "\n",
    "The 'describe' method returns a DataFrame containing summary of the \"Numeral\" values."
   ]
  },
  {
   "cell_type": "code",
   "execution_count": null,
   "id": "a0f5fec7-4112-4723-a35a-c46366699242",
   "metadata": {},
   "outputs": [],
   "source": [
    "df.describe() "
   ]
  },
  {
   "cell_type": "markdown",
   "id": "b2ae73c6-d12b-4942-9bfc-0bd594238fd7",
   "metadata": {},
   "source": [
    "# Saving Files\n",
    "## Lets save the stats in a file called \"Summary.csv\"\n",
    "\n",
    "The copy() method makes a copy of a dataframe.\n",
    "\n",
    "The to_csv(\"filename.csv\") method saves the dataframe as a CSV file."
   ]
  },
  {
   "cell_type": "code",
   "execution_count": null,
   "id": "5eab63eb-5259-4b49-b5d4-4c41e09f5b63",
   "metadata": {},
   "outputs": [],
   "source": [
    "# We will at first make a \"copy\" of the summary dataframe.\n",
    "\n",
    "df_summary = df.describe().copy()\n",
    "df_summary.to_csv(\"FuelConsumption_Summary.csv\")"
   ]
  },
  {
   "cell_type": "markdown",
   "id": "8929fe98-5be8-488c-b7c4-88034d6196dd",
   "metadata": {},
   "source": [
    "# Congrats\n",
    "\n",
    "You now know how to:\n",
    "1. Import libraries\n",
    "2. Download a file from the internet and save it  \n",
    "3. Take a look at the data\n",
    "4. Do Basic Statistics\n",
    "5. Save a Dataframe as a CSV file\n",
    "\n",
    "Keep practising!"
   ]
  }
 ],
 "metadata": {
  "kernelspec": {
   "display_name": "Python 3 (ipykernel)",
   "language": "python",
   "name": "python3"
  },
  "language_info": {
   "codemirror_mode": {
    "name": "ipython",
    "version": 3
   },
   "file_extension": ".py",
   "mimetype": "text/x-python",
   "name": "python",
   "nbconvert_exporter": "python",
   "pygments_lexer": "ipython3",
   "version": "3.10.6"
  }
 },
 "nbformat": 4,
 "nbformat_minor": 5
}
