{
 "cells": [
  {
   "cell_type": "markdown",
   "id": "3e9389f1-a0d6-4143-8680-6ebbfed17b1f",
   "metadata": {},
   "source": [
    "### This is where you will practice Tutorial 1"
   ]
  },
  {
   "cell_type": "code",
   "execution_count": null,
   "id": "40a02743-c078-4fc0-9a8b-284f23734757",
   "metadata": {},
   "outputs": [],
   "source": []
  }
 ],
 "metadata": {
  "kernelspec": {
   "display_name": "Python 3 (ipykernel)",
   "language": "python",
   "name": "python3"
  },
  "language_info": {
   "codemirror_mode": {
    "name": "ipython",
    "version": 3
   },
   "file_extension": ".py",
   "mimetype": "text/x-python",
   "name": "python",
   "nbconvert_exporter": "python",
   "pygments_lexer": "ipython3",
   "version": "3.10.6"
  }
 },
 "nbformat": 4,
 "nbformat_minor": 5
}
